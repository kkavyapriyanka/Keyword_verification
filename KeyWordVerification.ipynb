{
  "nbformat": 4,
  "nbformat_minor": 0,
  "metadata": {
    "colab": {
      "name": "KeyWordVerification.ipynb",
      "provenance": [],
      "authorship_tag": "ABX9TyNvW+SDF1gNMF0hnaBGetrO",
      "include_colab_link": true
    },
    "kernelspec": {
      "name": "python3",
      "display_name": "Python 3"
    }
  },
  "cells": [
    {
      "cell_type": "markdown",
      "metadata": {
        "id": "view-in-github",
        "colab_type": "text"
      },
      "source": [
        "<a href=\"https://colab.research.google.com/github/kkavyapriyanka/Keyword_verification/blob/main/KeyWordVerification.ipynb\" target=\"_parent\"><img src=\"https://colab.research.google.com/assets/colab-badge.svg\" alt=\"Open In Colab\"/></a>"
      ]
    },
    {
      "cell_type": "code",
      "metadata": {
        "colab": {
          "base_uri": "https://localhost:8080/"
        },
        "id": "730zrKdX3dQN",
        "outputId": "256220a6-1643-45d4-ec21-9430e4f4936d"
      },
      "source": [
        "!pip install contractions\r\n"
      ],
      "execution_count": null,
      "outputs": [
        {
          "output_type": "stream",
          "text": [
            "Requirement already satisfied: contractions in /usr/local/lib/python3.6/dist-packages (0.0.45)\n",
            "Requirement already satisfied: textsearch in /usr/local/lib/python3.6/dist-packages (from contractions) (0.0.17)\n",
            "Requirement already satisfied: pyahocorasick in /usr/local/lib/python3.6/dist-packages (from textsearch->contractions) (1.4.0)\n",
            "Requirement already satisfied: Unidecode in /usr/local/lib/python3.6/dist-packages (from textsearch->contractions) (1.1.2)\n"
          ],
          "name": "stdout"
        }
      ]
    },
    {
      "cell_type": "code",
      "metadata": {
        "id": "QyVfNk3h-s2J"
      },
      "source": [
        "import numpy as np # linear algebra\r\n",
        "import pandas as pd # data processing, CSV file I/O (e.g. pd.read_csv)\r\n",
        "import re, string, unicodedata\r\n",
        "import nltk\r\n",
        "import contractions\r\n",
        "import inflect\r\n",
        "from nltk import word_tokenize, sent_tokenize\r\n",
        "from nltk.corpus import stopwords\r\n",
        "from nltk.stem import LancasterStemmer, WordNetLemmatizer\r\n",
        "import gensim\r\n",
        "from gensim.models import Word2Vec\r\n",
        "import matplotlib.pyplot as plt\r\n",
        "from sklearn.feature_extraction.text import CountVectorizer, TfidfVectorizer\r\n",
        "from sklearn.naive_bayes import BernoulliNB, MultinomialNB\r\n",
        "from sklearn.metrics import accuracy_score, confusion_matrix\r\n",
        "from sklearn.model_selection import StratifiedKFold,train_test_split,cross_val_score,GridSearchCV,RandomizedSearchCV"
      ],
      "execution_count": 247,
      "outputs": []
    },
    {
      "cell_type": "code",
      "metadata": {
        "colab": {
          "base_uri": "https://localhost:8080/"
        },
        "id": "wSTNP8c4_BpA",
        "outputId": "883af047-6606-427c-86da-252f1dce2670"
      },
      "source": [
        "nltk.download('all')"
      ],
      "execution_count": null,
      "outputs": [
        {
          "output_type": "stream",
          "text": [
            "[nltk_data] Downloading collection 'all'\n",
            "[nltk_data]    | \n",
            "[nltk_data]    | Downloading package abc to /root/nltk_data...\n",
            "[nltk_data]    |   Package abc is already up-to-date!\n",
            "[nltk_data]    | Downloading package alpino to /root/nltk_data...\n",
            "[nltk_data]    |   Package alpino is already up-to-date!\n",
            "[nltk_data]    | Downloading package biocreative_ppi to\n",
            "[nltk_data]    |     /root/nltk_data...\n",
            "[nltk_data]    |   Package biocreative_ppi is already up-to-date!\n",
            "[nltk_data]    | Downloading package brown to /root/nltk_data...\n",
            "[nltk_data]    |   Package brown is already up-to-date!\n",
            "[nltk_data]    | Downloading package brown_tei to /root/nltk_data...\n",
            "[nltk_data]    |   Package brown_tei is already up-to-date!\n",
            "[nltk_data]    | Downloading package cess_cat to /root/nltk_data...\n",
            "[nltk_data]    |   Package cess_cat is already up-to-date!\n",
            "[nltk_data]    | Downloading package cess_esp to /root/nltk_data...\n",
            "[nltk_data]    |   Package cess_esp is already up-to-date!\n",
            "[nltk_data]    | Downloading package chat80 to /root/nltk_data...\n",
            "[nltk_data]    |   Package chat80 is already up-to-date!\n",
            "[nltk_data]    | Downloading package city_database to\n",
            "[nltk_data]    |     /root/nltk_data...\n",
            "[nltk_data]    |   Package city_database is already up-to-date!\n",
            "[nltk_data]    | Downloading package cmudict to /root/nltk_data...\n",
            "[nltk_data]    |   Package cmudict is already up-to-date!\n",
            "[nltk_data]    | Downloading package comparative_sentences to\n",
            "[nltk_data]    |     /root/nltk_data...\n",
            "[nltk_data]    |   Package comparative_sentences is already up-to-\n",
            "[nltk_data]    |       date!\n",
            "[nltk_data]    | Downloading package comtrans to /root/nltk_data...\n",
            "[nltk_data]    |   Package comtrans is already up-to-date!\n",
            "[nltk_data]    | Downloading package conll2000 to /root/nltk_data...\n",
            "[nltk_data]    |   Package conll2000 is already up-to-date!\n",
            "[nltk_data]    | Downloading package conll2002 to /root/nltk_data...\n",
            "[nltk_data]    |   Package conll2002 is already up-to-date!\n",
            "[nltk_data]    | Downloading package conll2007 to /root/nltk_data...\n",
            "[nltk_data]    |   Package conll2007 is already up-to-date!\n",
            "[nltk_data]    | Downloading package crubadan to /root/nltk_data...\n",
            "[nltk_data]    |   Package crubadan is already up-to-date!\n",
            "[nltk_data]    | Downloading package dependency_treebank to\n",
            "[nltk_data]    |     /root/nltk_data...\n",
            "[nltk_data]    |   Package dependency_treebank is already up-to-date!\n",
            "[nltk_data]    | Downloading package dolch to /root/nltk_data...\n",
            "[nltk_data]    |   Package dolch is already up-to-date!\n",
            "[nltk_data]    | Downloading package europarl_raw to\n",
            "[nltk_data]    |     /root/nltk_data...\n",
            "[nltk_data]    |   Package europarl_raw is already up-to-date!\n",
            "[nltk_data]    | Downloading package floresta to /root/nltk_data...\n",
            "[nltk_data]    |   Package floresta is already up-to-date!\n",
            "[nltk_data]    | Downloading package framenet_v15 to\n",
            "[nltk_data]    |     /root/nltk_data...\n",
            "[nltk_data]    |   Package framenet_v15 is already up-to-date!\n",
            "[nltk_data]    | Downloading package framenet_v17 to\n",
            "[nltk_data]    |     /root/nltk_data...\n",
            "[nltk_data]    |   Package framenet_v17 is already up-to-date!\n",
            "[nltk_data]    | Downloading package gazetteers to /root/nltk_data...\n",
            "[nltk_data]    |   Package gazetteers is already up-to-date!\n",
            "[nltk_data]    | Downloading package genesis to /root/nltk_data...\n",
            "[nltk_data]    |   Package genesis is already up-to-date!\n",
            "[nltk_data]    | Downloading package gutenberg to /root/nltk_data...\n",
            "[nltk_data]    |   Package gutenberg is already up-to-date!\n",
            "[nltk_data]    | Downloading package ieer to /root/nltk_data...\n",
            "[nltk_data]    |   Package ieer is already up-to-date!\n",
            "[nltk_data]    | Downloading package inaugural to /root/nltk_data...\n",
            "[nltk_data]    |   Package inaugural is already up-to-date!\n",
            "[nltk_data]    | Downloading package indian to /root/nltk_data...\n",
            "[nltk_data]    |   Package indian is already up-to-date!\n",
            "[nltk_data]    | Downloading package jeita to /root/nltk_data...\n",
            "[nltk_data]    |   Package jeita is already up-to-date!\n",
            "[nltk_data]    | Downloading package kimmo to /root/nltk_data...\n",
            "[nltk_data]    |   Package kimmo is already up-to-date!\n",
            "[nltk_data]    | Downloading package knbc to /root/nltk_data...\n",
            "[nltk_data]    |   Package knbc is already up-to-date!\n",
            "[nltk_data]    | Downloading package lin_thesaurus to\n",
            "[nltk_data]    |     /root/nltk_data...\n",
            "[nltk_data]    |   Package lin_thesaurus is already up-to-date!\n",
            "[nltk_data]    | Downloading package mac_morpho to /root/nltk_data...\n",
            "[nltk_data]    |   Package mac_morpho is already up-to-date!\n",
            "[nltk_data]    | Downloading package machado to /root/nltk_data...\n",
            "[nltk_data]    |   Package machado is already up-to-date!\n",
            "[nltk_data]    | Downloading package masc_tagged to /root/nltk_data...\n",
            "[nltk_data]    |   Package masc_tagged is already up-to-date!\n",
            "[nltk_data]    | Downloading package moses_sample to\n",
            "[nltk_data]    |     /root/nltk_data...\n",
            "[nltk_data]    |   Package moses_sample is already up-to-date!\n",
            "[nltk_data]    | Downloading package movie_reviews to\n",
            "[nltk_data]    |     /root/nltk_data...\n",
            "[nltk_data]    |   Package movie_reviews is already up-to-date!\n",
            "[nltk_data]    | Downloading package names to /root/nltk_data...\n",
            "[nltk_data]    |   Package names is already up-to-date!\n",
            "[nltk_data]    | Downloading package nombank.1.0 to /root/nltk_data...\n",
            "[nltk_data]    |   Package nombank.1.0 is already up-to-date!\n",
            "[nltk_data]    | Downloading package nps_chat to /root/nltk_data...\n",
            "[nltk_data]    |   Package nps_chat is already up-to-date!\n",
            "[nltk_data]    | Downloading package omw to /root/nltk_data...\n",
            "[nltk_data]    |   Package omw is already up-to-date!\n",
            "[nltk_data]    | Downloading package opinion_lexicon to\n",
            "[nltk_data]    |     /root/nltk_data...\n",
            "[nltk_data]    |   Package opinion_lexicon is already up-to-date!\n",
            "[nltk_data]    | Downloading package paradigms to /root/nltk_data...\n",
            "[nltk_data]    |   Package paradigms is already up-to-date!\n",
            "[nltk_data]    | Downloading package pil to /root/nltk_data...\n",
            "[nltk_data]    |   Package pil is already up-to-date!\n",
            "[nltk_data]    | Downloading package pl196x to /root/nltk_data...\n",
            "[nltk_data]    |   Package pl196x is already up-to-date!\n",
            "[nltk_data]    | Downloading package ppattach to /root/nltk_data...\n",
            "[nltk_data]    |   Package ppattach is already up-to-date!\n",
            "[nltk_data]    | Downloading package problem_reports to\n",
            "[nltk_data]    |     /root/nltk_data...\n",
            "[nltk_data]    |   Package problem_reports is already up-to-date!\n",
            "[nltk_data]    | Downloading package propbank to /root/nltk_data...\n",
            "[nltk_data]    |   Package propbank is already up-to-date!\n",
            "[nltk_data]    | Downloading package ptb to /root/nltk_data...\n",
            "[nltk_data]    |   Package ptb is already up-to-date!\n",
            "[nltk_data]    | Downloading package product_reviews_1 to\n",
            "[nltk_data]    |     /root/nltk_data...\n",
            "[nltk_data]    |   Package product_reviews_1 is already up-to-date!\n",
            "[nltk_data]    | Downloading package product_reviews_2 to\n",
            "[nltk_data]    |     /root/nltk_data...\n",
            "[nltk_data]    |   Package product_reviews_2 is already up-to-date!\n",
            "[nltk_data]    | Downloading package pros_cons to /root/nltk_data...\n",
            "[nltk_data]    |   Package pros_cons is already up-to-date!\n",
            "[nltk_data]    | Downloading package qc to /root/nltk_data...\n",
            "[nltk_data]    |   Package qc is already up-to-date!\n",
            "[nltk_data]    | Downloading package reuters to /root/nltk_data...\n",
            "[nltk_data]    |   Package reuters is already up-to-date!\n",
            "[nltk_data]    | Downloading package rte to /root/nltk_data...\n",
            "[nltk_data]    |   Package rte is already up-to-date!\n",
            "[nltk_data]    | Downloading package semcor to /root/nltk_data...\n",
            "[nltk_data]    |   Package semcor is already up-to-date!\n",
            "[nltk_data]    | Downloading package senseval to /root/nltk_data...\n",
            "[nltk_data]    |   Package senseval is already up-to-date!\n",
            "[nltk_data]    | Downloading package sentiwordnet to\n",
            "[nltk_data]    |     /root/nltk_data...\n",
            "[nltk_data]    |   Package sentiwordnet is already up-to-date!\n",
            "[nltk_data]    | Downloading package sentence_polarity to\n",
            "[nltk_data]    |     /root/nltk_data...\n",
            "[nltk_data]    |   Package sentence_polarity is already up-to-date!\n",
            "[nltk_data]    | Downloading package shakespeare to /root/nltk_data...\n",
            "[nltk_data]    |   Package shakespeare is already up-to-date!\n",
            "[nltk_data]    | Downloading package sinica_treebank to\n",
            "[nltk_data]    |     /root/nltk_data...\n",
            "[nltk_data]    |   Package sinica_treebank is already up-to-date!\n",
            "[nltk_data]    | Downloading package smultron to /root/nltk_data...\n",
            "[nltk_data]    |   Package smultron is already up-to-date!\n",
            "[nltk_data]    | Downloading package state_union to /root/nltk_data...\n",
            "[nltk_data]    |   Package state_union is already up-to-date!\n",
            "[nltk_data]    | Downloading package stopwords to /root/nltk_data...\n",
            "[nltk_data]    |   Package stopwords is already up-to-date!\n",
            "[nltk_data]    | Downloading package subjectivity to\n",
            "[nltk_data]    |     /root/nltk_data...\n",
            "[nltk_data]    |   Package subjectivity is already up-to-date!\n",
            "[nltk_data]    | Downloading package swadesh to /root/nltk_data...\n",
            "[nltk_data]    |   Package swadesh is already up-to-date!\n",
            "[nltk_data]    | Downloading package switchboard to /root/nltk_data...\n",
            "[nltk_data]    |   Package switchboard is already up-to-date!\n",
            "[nltk_data]    | Downloading package timit to /root/nltk_data...\n",
            "[nltk_data]    |   Package timit is already up-to-date!\n",
            "[nltk_data]    | Downloading package toolbox to /root/nltk_data...\n",
            "[nltk_data]    |   Package toolbox is already up-to-date!\n",
            "[nltk_data]    | Downloading package treebank to /root/nltk_data...\n",
            "[nltk_data]    |   Package treebank is already up-to-date!\n",
            "[nltk_data]    | Downloading package twitter_samples to\n",
            "[nltk_data]    |     /root/nltk_data...\n",
            "[nltk_data]    |   Package twitter_samples is already up-to-date!\n",
            "[nltk_data]    | Downloading package udhr to /root/nltk_data...\n",
            "[nltk_data]    |   Package udhr is already up-to-date!\n",
            "[nltk_data]    | Downloading package udhr2 to /root/nltk_data...\n",
            "[nltk_data]    |   Package udhr2 is already up-to-date!\n",
            "[nltk_data]    | Downloading package unicode_samples to\n",
            "[nltk_data]    |     /root/nltk_data...\n",
            "[nltk_data]    |   Package unicode_samples is already up-to-date!\n",
            "[nltk_data]    | Downloading package universal_treebanks_v20 to\n",
            "[nltk_data]    |     /root/nltk_data...\n",
            "[nltk_data]    |   Package universal_treebanks_v20 is already up-to-\n",
            "[nltk_data]    |       date!\n",
            "[nltk_data]    | Downloading package verbnet to /root/nltk_data...\n",
            "[nltk_data]    |   Package verbnet is already up-to-date!\n",
            "[nltk_data]    | Downloading package verbnet3 to /root/nltk_data...\n",
            "[nltk_data]    |   Package verbnet3 is already up-to-date!\n",
            "[nltk_data]    | Downloading package webtext to /root/nltk_data...\n",
            "[nltk_data]    |   Package webtext is already up-to-date!\n",
            "[nltk_data]    | Downloading package wordnet to /root/nltk_data...\n",
            "[nltk_data]    |   Package wordnet is already up-to-date!\n",
            "[nltk_data]    | Downloading package wordnet_ic to /root/nltk_data...\n",
            "[nltk_data]    |   Package wordnet_ic is already up-to-date!\n",
            "[nltk_data]    | Downloading package words to /root/nltk_data...\n",
            "[nltk_data]    |   Package words is already up-to-date!\n",
            "[nltk_data]    | Downloading package ycoe to /root/nltk_data...\n",
            "[nltk_data]    |   Package ycoe is already up-to-date!\n",
            "[nltk_data]    | Downloading package rslp to /root/nltk_data...\n",
            "[nltk_data]    |   Package rslp is already up-to-date!\n",
            "[nltk_data]    | Downloading package maxent_treebank_pos_tagger to\n",
            "[nltk_data]    |     /root/nltk_data...\n",
            "[nltk_data]    |   Package maxent_treebank_pos_tagger is already up-\n",
            "[nltk_data]    |       to-date!\n",
            "[nltk_data]    | Downloading package universal_tagset to\n",
            "[nltk_data]    |     /root/nltk_data...\n",
            "[nltk_data]    |   Package universal_tagset is already up-to-date!\n",
            "[nltk_data]    | Downloading package maxent_ne_chunker to\n",
            "[nltk_data]    |     /root/nltk_data...\n",
            "[nltk_data]    |   Package maxent_ne_chunker is already up-to-date!\n",
            "[nltk_data]    | Downloading package punkt to /root/nltk_data...\n",
            "[nltk_data]    |   Package punkt is already up-to-date!\n",
            "[nltk_data]    | Downloading package book_grammars to\n",
            "[nltk_data]    |     /root/nltk_data...\n",
            "[nltk_data]    |   Package book_grammars is already up-to-date!\n",
            "[nltk_data]    | Downloading package sample_grammars to\n",
            "[nltk_data]    |     /root/nltk_data...\n",
            "[nltk_data]    |   Package sample_grammars is already up-to-date!\n",
            "[nltk_data]    | Downloading package spanish_grammars to\n",
            "[nltk_data]    |     /root/nltk_data...\n",
            "[nltk_data]    |   Package spanish_grammars is already up-to-date!\n",
            "[nltk_data]    | Downloading package basque_grammars to\n",
            "[nltk_data]    |     /root/nltk_data...\n",
            "[nltk_data]    |   Package basque_grammars is already up-to-date!\n",
            "[nltk_data]    | Downloading package large_grammars to\n",
            "[nltk_data]    |     /root/nltk_data...\n",
            "[nltk_data]    |   Package large_grammars is already up-to-date!\n",
            "[nltk_data]    | Downloading package tagsets to /root/nltk_data...\n",
            "[nltk_data]    |   Package tagsets is already up-to-date!\n",
            "[nltk_data]    | Downloading package snowball_data to\n",
            "[nltk_data]    |     /root/nltk_data...\n",
            "[nltk_data]    |   Package snowball_data is already up-to-date!\n",
            "[nltk_data]    | Downloading package bllip_wsj_no_aux to\n",
            "[nltk_data]    |     /root/nltk_data...\n",
            "[nltk_data]    |   Package bllip_wsj_no_aux is already up-to-date!\n",
            "[nltk_data]    | Downloading package word2vec_sample to\n",
            "[nltk_data]    |     /root/nltk_data...\n",
            "[nltk_data]    |   Package word2vec_sample is already up-to-date!\n",
            "[nltk_data]    | Downloading package panlex_swadesh to\n",
            "[nltk_data]    |     /root/nltk_data...\n",
            "[nltk_data]    |   Package panlex_swadesh is already up-to-date!\n",
            "[nltk_data]    | Downloading package mte_teip5 to /root/nltk_data...\n",
            "[nltk_data]    |   Package mte_teip5 is already up-to-date!\n",
            "[nltk_data]    | Downloading package averaged_perceptron_tagger to\n",
            "[nltk_data]    |     /root/nltk_data...\n",
            "[nltk_data]    |   Package averaged_perceptron_tagger is already up-\n",
            "[nltk_data]    |       to-date!\n",
            "[nltk_data]    | Downloading package averaged_perceptron_tagger_ru to\n",
            "[nltk_data]    |     /root/nltk_data...\n",
            "[nltk_data]    |   Package averaged_perceptron_tagger_ru is already\n",
            "[nltk_data]    |       up-to-date!\n",
            "[nltk_data]    | Downloading package perluniprops to\n",
            "[nltk_data]    |     /root/nltk_data...\n",
            "[nltk_data]    |   Package perluniprops is already up-to-date!\n",
            "[nltk_data]    | Downloading package nonbreaking_prefixes to\n",
            "[nltk_data]    |     /root/nltk_data...\n",
            "[nltk_data]    |   Package nonbreaking_prefixes is already up-to-date!\n",
            "[nltk_data]    | Downloading package vader_lexicon to\n",
            "[nltk_data]    |     /root/nltk_data...\n",
            "[nltk_data]    |   Package vader_lexicon is already up-to-date!\n",
            "[nltk_data]    | Downloading package porter_test to /root/nltk_data...\n",
            "[nltk_data]    |   Package porter_test is already up-to-date!\n",
            "[nltk_data]    | Downloading package wmt15_eval to /root/nltk_data...\n",
            "[nltk_data]    |   Package wmt15_eval is already up-to-date!\n",
            "[nltk_data]    | Downloading package mwa_ppdb to /root/nltk_data...\n",
            "[nltk_data]    |   Package mwa_ppdb is already up-to-date!\n",
            "[nltk_data]    | \n",
            "[nltk_data]  Done downloading collection all\n"
          ],
          "name": "stdout"
        },
        {
          "output_type": "execute_result",
          "data": {
            "text/plain": [
              "True"
            ]
          },
          "metadata": {
            "tags": []
          },
          "execution_count": 67
        }
      ]
    },
    {
      "cell_type": "code",
      "metadata": {
        "colab": {
          "base_uri": "https://localhost:8080/"
        },
        "id": "j-lAqIn43eSW",
        "outputId": "ec680c48-4a08-407d-c4b9-6707b52e2f5e"
      },
      "source": [
        "from google.colab import drive\r\n",
        "drive.mount('/content/drive')\r\n"
      ],
      "execution_count": null,
      "outputs": [
        {
          "output_type": "stream",
          "text": [
            "Drive already mounted at /content/drive; to attempt to forcibly remount, call drive.mount(\"/content/drive\", force_remount=True).\n"
          ],
          "name": "stdout"
        }
      ]
    },
    {
      "cell_type": "code",
      "metadata": {
        "id": "pS50ESFrgCCG"
      },
      "source": [
        "wv = gensim.models.KeyedVectors.load_word2vec_format(\"/content/drive/MyDrive/Colab Notebooks/GoogleNews-vectors-negative300.bin.gz\", binary=True)\r\n",
        "wv.init_sims(replace=True)"
      ],
      "execution_count": 178,
      "outputs": []
    },
    {
      "cell_type": "code",
      "metadata": {
        "colab": {
          "base_uri": "https://localhost:8080/"
        },
        "id": "8EhpBgIO3g9K",
        "outputId": "283ceb83-048f-4a28-e1e4-e955ce728150"
      },
      "source": [
        "data=pd.read_csv('/content/drive/MyDrive/Colab Notebooks/keyword_verification.csv')\r\n",
        "data.shape"
      ],
      "execution_count": 209,
      "outputs": [
        {
          "output_type": "execute_result",
          "data": {
            "text/plain": [
              "(11370, 5)"
            ]
          },
          "metadata": {
            "tags": []
          },
          "execution_count": 209
        }
      ]
    },
    {
      "cell_type": "code",
      "metadata": {
        "colab": {
          "base_uri": "https://localhost:8080/"
        },
        "id": "-WKEcu9R3yFs",
        "outputId": "091aeb83-eef2-4591-c156-c6e74fda43da"
      },
      "source": [
        "data=data.dropna()\r\n",
        "data.shape"
      ],
      "execution_count": 210,
      "outputs": [
        {
          "output_type": "execute_result",
          "data": {
            "text/plain": [
              "(7952, 5)"
            ]
          },
          "metadata": {
            "tags": []
          },
          "execution_count": 210
        }
      ]
    },
    {
      "cell_type": "code",
      "metadata": {
        "colab": {
          "base_uri": "https://localhost:8080/"
        },
        "id": "2Od6d4kq35L1",
        "outputId": "2e27e421-8585-4c0a-9bdb-dceffd4e6779"
      },
      "source": [
        "data.info()"
      ],
      "execution_count": 211,
      "outputs": [
        {
          "output_type": "stream",
          "text": [
            "<class 'pandas.core.frame.DataFrame'>\n",
            "Int64Index: 7952 entries, 2 to 11368\n",
            "Data columns (total 5 columns):\n",
            " #   Column    Non-Null Count  Dtype \n",
            "---  ------    --------------  ----- \n",
            " 0   id        7952 non-null   int64 \n",
            " 1   keyword   7952 non-null   object\n",
            " 2   location  7952 non-null   object\n",
            " 3   text      7952 non-null   object\n",
            " 4   target    7952 non-null   int64 \n",
            "dtypes: int64(2), object(3)\n",
            "memory usage: 372.8+ KB\n"
          ],
          "name": "stdout"
        }
      ]
    },
    {
      "cell_type": "code",
      "metadata": {
        "colab": {
          "base_uri": "https://localhost:8080/",
          "height": 204
        },
        "id": "IAVMVPmQ4AfO",
        "outputId": "c53b4545-839a-4fbf-c67c-559b0848928a"
      },
      "source": [
        "data.head()"
      ],
      "execution_count": 212,
      "outputs": [
        {
          "output_type": "execute_result",
          "data": {
            "text/html": [
              "<div>\n",
              "<style scoped>\n",
              "    .dataframe tbody tr th:only-of-type {\n",
              "        vertical-align: middle;\n",
              "    }\n",
              "\n",
              "    .dataframe tbody tr th {\n",
              "        vertical-align: top;\n",
              "    }\n",
              "\n",
              "    .dataframe thead th {\n",
              "        text-align: right;\n",
              "    }\n",
              "</style>\n",
              "<table border=\"1\" class=\"dataframe\">\n",
              "  <thead>\n",
              "    <tr style=\"text-align: right;\">\n",
              "      <th></th>\n",
              "      <th>id</th>\n",
              "      <th>keyword</th>\n",
              "      <th>location</th>\n",
              "      <th>text</th>\n",
              "      <th>target</th>\n",
              "    </tr>\n",
              "  </thead>\n",
              "  <tbody>\n",
              "    <tr>\n",
              "      <th>2</th>\n",
              "      <td>2</td>\n",
              "      <td>ablaze</td>\n",
              "      <td>New York City</td>\n",
              "      <td>Arsonist sets cars ablaze at dealership https:...</td>\n",
              "      <td>1</td>\n",
              "    </tr>\n",
              "    <tr>\n",
              "      <th>3</th>\n",
              "      <td>3</td>\n",
              "      <td>ablaze</td>\n",
              "      <td>Morgantown, WV</td>\n",
              "      <td>Arsonist sets cars ablaze at dealership https:...</td>\n",
              "      <td>1</td>\n",
              "    </tr>\n",
              "    <tr>\n",
              "      <th>5</th>\n",
              "      <td>5</td>\n",
              "      <td>ablaze</td>\n",
              "      <td>OC</td>\n",
              "      <td>If this child was Chinese, this tweet would ha...</td>\n",
              "      <td>0</td>\n",
              "    </tr>\n",
              "    <tr>\n",
              "      <th>6</th>\n",
              "      <td>6</td>\n",
              "      <td>ablaze</td>\n",
              "      <td>London, England</td>\n",
              "      <td>Several houses have been set ablaze in Ngemsib...</td>\n",
              "      <td>1</td>\n",
              "    </tr>\n",
              "    <tr>\n",
              "      <th>7</th>\n",
              "      <td>7</td>\n",
              "      <td>ablaze</td>\n",
              "      <td>Bharat</td>\n",
              "      <td>Asansol: A BJP office in Salanpur village was ...</td>\n",
              "      <td>1</td>\n",
              "    </tr>\n",
              "  </tbody>\n",
              "</table>\n",
              "</div>"
            ],
            "text/plain": [
              "   id keyword  ...                                               text target\n",
              "2   2  ablaze  ...  Arsonist sets cars ablaze at dealership https:...      1\n",
              "3   3  ablaze  ...  Arsonist sets cars ablaze at dealership https:...      1\n",
              "5   5  ablaze  ...  If this child was Chinese, this tweet would ha...      0\n",
              "6   6  ablaze  ...  Several houses have been set ablaze in Ngemsib...      1\n",
              "7   7  ablaze  ...  Asansol: A BJP office in Salanpur village was ...      1\n",
              "\n",
              "[5 rows x 5 columns]"
            ]
          },
          "metadata": {
            "tags": []
          },
          "execution_count": 212
        }
      ]
    },
    {
      "cell_type": "code",
      "metadata": {
        "colab": {
          "base_uri": "https://localhost:8080/"
        },
        "id": "vlnV4MBo4QPH",
        "outputId": "e965b648-36e9-4d53-b50c-373ff3cd82ac"
      },
      "source": [
        "data['keyword'].unique()"
      ],
      "execution_count": 213,
      "outputs": [
        {
          "output_type": "execute_result",
          "data": {
            "text/plain": [
              "array(['ablaze', 'accident', 'aftershock', 'airplane%20accident',\n",
              "       'ambulance', 'annihilated', 'annihilation', 'apocalypse',\n",
              "       'armageddon', 'army', 'arson', 'arsonist', 'attack', 'attacked',\n",
              "       'avalanche', 'battle', 'bioterror', 'bioterrorism', 'blaze',\n",
              "       'blazing', 'bleeding', 'blew%20up', 'blight', 'blizzard', 'blood',\n",
              "       'bloody', 'blown%20up', 'body%20bag', 'body%20bagging',\n",
              "       'body%20bags', 'bomb', 'bombed', 'bombing', 'bridge%20collapse',\n",
              "       'buildings%20burning', 'buildings%20on%20fire', 'burned',\n",
              "       'burning', 'bush%20fires', 'casualties', 'casualty', 'catastrophe',\n",
              "       'catastrophic', 'chemical%20emergency', 'cliff%20fall', 'collapse',\n",
              "       'collapsed', 'collide', 'collided', 'collision', 'crash',\n",
              "       'crashed', 'crush', 'crushed', 'curfew', 'cyclone', 'damage',\n",
              "       'danger', 'dead', 'death', 'deaths', 'debris', 'deluge', 'deluged',\n",
              "       'demolish', 'demolished', 'demolition', 'derail', 'derailed',\n",
              "       'derailment', 'desolate', 'desolation', 'destroy', 'destroyed',\n",
              "       'destruction', 'detonate', 'devastated', 'devastation', 'disaster',\n",
              "       'displaced', 'drought', 'drown', 'drowned', 'drowning',\n",
              "       'dust%20storm', 'earthquake', 'electrocute', 'electrocuted',\n",
              "       'emergency', 'emergency%20plan', 'emergency%20services',\n",
              "       'engulfed', 'epicentre', 'evacuate', 'evacuated', 'evacuation',\n",
              "       'explode', 'exploded', 'explosion', 'eyewitness', 'famine',\n",
              "       'fatal', 'fatalities', 'fatality', 'fear', 'fire', 'fire%20truck',\n",
              "       'first%20responders', 'flames', 'flattened', 'flood', 'flooding',\n",
              "       'floods', 'forest%20fire', 'forest%20fires', 'hail', 'hailstorm',\n",
              "       'harm', 'hazard', 'hazardous', 'heat%20wave', 'hellfire', 'hijack',\n",
              "       'hijacker', 'hijacking', 'hostage', 'hostages', 'hurricane',\n",
              "       'injured', 'injuries', 'injury', 'inundated', 'inundation',\n",
              "       'landslide', 'lava', 'lightning', 'loud%20bang', 'mass%20murder',\n",
              "       'mass%20murderer', 'massacre', 'mayhem', 'meltdown', 'military',\n",
              "       'mudslide', 'natural%20disaster', 'nuclear%20disaster',\n",
              "       'nuclear%20reactor', 'obliterate', 'obliterated', 'obliteration',\n",
              "       'oil%20spill', 'outbreak', 'pandemonium', 'panic', 'panicking',\n",
              "       'police', 'quarantine', 'quarantined', 'radiation%20emergency',\n",
              "       'rainstorm', 'razed', 'refugees', 'rescue', 'rescued', 'rescuers',\n",
              "       'riot', 'rioting', 'rubble', 'ruin', 'sandstorm', 'screamed',\n",
              "       'screaming', 'screams', 'seismic', 'sinkhole', 'sinking', 'siren',\n",
              "       'sirens', 'smoke', 'snowstorm', 'storm', 'stretcher',\n",
              "       'structural%20failure', 'suicide%20bomb', 'suicide%20bomber',\n",
              "       'suicide%20bombing', 'sunk', 'survive', 'survived', 'survivors',\n",
              "       'terrorism', 'terrorist', 'threat', 'thunder', 'thunderstorm',\n",
              "       'tornado', 'tragedy', 'trapped', 'trauma', 'traumatised',\n",
              "       'trouble', 'tsunami', 'twister', 'typhoon', 'upheaval',\n",
              "       'violent%20storm', 'volcano', 'war%20zone', 'weapon', 'weapons',\n",
              "       'whirlwind', 'wild%20fires', 'wildfire', 'windstorm', 'wounded',\n",
              "       'wounds', 'wreck', 'wreckage', 'wrecked'], dtype=object)"
            ]
          },
          "metadata": {
            "tags": []
          },
          "execution_count": 213
        }
      ]
    },
    {
      "cell_type": "code",
      "metadata": {
        "colab": {
          "base_uri": "https://localhost:8080/"
        },
        "id": "uU4VW_Rg4_gU",
        "outputId": "32283889-996c-48cc-9e57-dde3827c33e2"
      },
      "source": [
        "data['keyword'] = [i.replace('%20', '_') for i in data['keyword']]\r\n",
        "data['keyword'].unique()"
      ],
      "execution_count": 214,
      "outputs": [
        {
          "output_type": "execute_result",
          "data": {
            "text/plain": [
              "array(['ablaze', 'accident', 'aftershock', 'airplane_accident',\n",
              "       'ambulance', 'annihilated', 'annihilation', 'apocalypse',\n",
              "       'armageddon', 'army', 'arson', 'arsonist', 'attack', 'attacked',\n",
              "       'avalanche', 'battle', 'bioterror', 'bioterrorism', 'blaze',\n",
              "       'blazing', 'bleeding', 'blew_up', 'blight', 'blizzard', 'blood',\n",
              "       'bloody', 'blown_up', 'body_bag', 'body_bagging', 'body_bags',\n",
              "       'bomb', 'bombed', 'bombing', 'bridge_collapse',\n",
              "       'buildings_burning', 'buildings_on_fire', 'burned', 'burning',\n",
              "       'bush_fires', 'casualties', 'casualty', 'catastrophe',\n",
              "       'catastrophic', 'chemical_emergency', 'cliff_fall', 'collapse',\n",
              "       'collapsed', 'collide', 'collided', 'collision', 'crash',\n",
              "       'crashed', 'crush', 'crushed', 'curfew', 'cyclone', 'damage',\n",
              "       'danger', 'dead', 'death', 'deaths', 'debris', 'deluge', 'deluged',\n",
              "       'demolish', 'demolished', 'demolition', 'derail', 'derailed',\n",
              "       'derailment', 'desolate', 'desolation', 'destroy', 'destroyed',\n",
              "       'destruction', 'detonate', 'devastated', 'devastation', 'disaster',\n",
              "       'displaced', 'drought', 'drown', 'drowned', 'drowning',\n",
              "       'dust_storm', 'earthquake', 'electrocute', 'electrocuted',\n",
              "       'emergency', 'emergency_plan', 'emergency_services', 'engulfed',\n",
              "       'epicentre', 'evacuate', 'evacuated', 'evacuation', 'explode',\n",
              "       'exploded', 'explosion', 'eyewitness', 'famine', 'fatal',\n",
              "       'fatalities', 'fatality', 'fear', 'fire', 'fire_truck',\n",
              "       'first_responders', 'flames', 'flattened', 'flood', 'flooding',\n",
              "       'floods', 'forest_fire', 'forest_fires', 'hail', 'hailstorm',\n",
              "       'harm', 'hazard', 'hazardous', 'heat_wave', 'hellfire', 'hijack',\n",
              "       'hijacker', 'hijacking', 'hostage', 'hostages', 'hurricane',\n",
              "       'injured', 'injuries', 'injury', 'inundated', 'inundation',\n",
              "       'landslide', 'lava', 'lightning', 'loud_bang', 'mass_murder',\n",
              "       'mass_murderer', 'massacre', 'mayhem', 'meltdown', 'military',\n",
              "       'mudslide', 'natural_disaster', 'nuclear_disaster',\n",
              "       'nuclear_reactor', 'obliterate', 'obliterated', 'obliteration',\n",
              "       'oil_spill', 'outbreak', 'pandemonium', 'panic', 'panicking',\n",
              "       'police', 'quarantine', 'quarantined', 'radiation_emergency',\n",
              "       'rainstorm', 'razed', 'refugees', 'rescue', 'rescued', 'rescuers',\n",
              "       'riot', 'rioting', 'rubble', 'ruin', 'sandstorm', 'screamed',\n",
              "       'screaming', 'screams', 'seismic', 'sinkhole', 'sinking', 'siren',\n",
              "       'sirens', 'smoke', 'snowstorm', 'storm', 'stretcher',\n",
              "       'structural_failure', 'suicide_bomb', 'suicide_bomber',\n",
              "       'suicide_bombing', 'sunk', 'survive', 'survived', 'survivors',\n",
              "       'terrorism', 'terrorist', 'threat', 'thunder', 'thunderstorm',\n",
              "       'tornado', 'tragedy', 'trapped', 'trauma', 'traumatised',\n",
              "       'trouble', 'tsunami', 'twister', 'typhoon', 'upheaval',\n",
              "       'violent_storm', 'volcano', 'war_zone', 'weapon', 'weapons',\n",
              "       'whirlwind', 'wild_fires', 'wildfire', 'windstorm', 'wounded',\n",
              "       'wounds', 'wreck', 'wreckage', 'wrecked'], dtype=object)"
            ]
          },
          "metadata": {
            "tags": []
          },
          "execution_count": 214
        }
      ]
    },
    {
      "cell_type": "code",
      "metadata": {
        "colab": {
          "base_uri": "https://localhost:8080/"
        },
        "id": "aUc8QIyZ-YyH",
        "outputId": "4b4ee269-ba9a-4fef-f931-d59a20493c15"
      },
      "source": [
        "def replace_contractions(text):\r\n",
        "    \"\"\"Replace contractions in string of text\"\"\"\r\n",
        "    return contractions.fix(text)\r\n",
        "\r\n",
        "def remove_URL(sample):\r\n",
        "    \"\"\"Remove URLs from a sample string\"\"\"\r\n",
        "    return re.sub(r\"http\\S+\", \"\", sample)\r\n",
        "\r\n",
        "def remove_non_ascii(words):\r\n",
        "    \"\"\"Remove non-ASCII characters from list of tokenized words\"\"\"\r\n",
        "    new_words = []\r\n",
        "    for word in words:\r\n",
        "        new_word = unicodedata.normalize('NFKD', word).encode('ascii', 'ignore').decode('utf-8', 'ignore')\r\n",
        "        new_words.append(new_word)\r\n",
        "    return new_words\r\n",
        "\r\n",
        "def to_lowercase(words):\r\n",
        "    \"\"\"Convert all characters to lowercase from list of tokenized words\"\"\"\r\n",
        "    new_words = []\r\n",
        "    for word in words:\r\n",
        "        new_word = word.lower()\r\n",
        "        new_words.append(new_word)\r\n",
        "    return new_words\r\n",
        "\r\n",
        "def remove_punctuation(words):\r\n",
        "    \"\"\"Remove punctuation from list of tokenized words\"\"\"\r\n",
        "    new_words = []\r\n",
        "    for word in words:\r\n",
        "        new_word = re.sub(r'[^\\w\\s]', '', word)\r\n",
        "        if new_word != '':\r\n",
        "            new_words.append(new_word)\r\n",
        "    return new_words\r\n",
        "\r\n",
        "def replace_numbers(words):\r\n",
        "    \"\"\"Replace all interger occurrences in list of tokenized words with textual representation\"\"\"\r\n",
        "    p = inflect.engine()\r\n",
        "    new_words = []\r\n",
        "    for word in words:\r\n",
        "        if word.isdigit():\r\n",
        "            new_word = p.number_to_words(word)\r\n",
        "            new_words.append(new_word)\r\n",
        "        else:\r\n",
        "            new_words.append(word)\r\n",
        "    return new_words\r\n",
        "\r\n",
        "def remove_stopwords(words):\r\n",
        "    \"\"\"Remove stop words from list of tokenized words\"\"\"\r\n",
        "    new_words = []\r\n",
        "    for word in words:\r\n",
        "        if word not in stopwords.words('english'):\r\n",
        "            new_words.append(word)\r\n",
        "    return new_words\r\n",
        "\r\n",
        "def stem_words(words):\r\n",
        "    \"\"\"Stem words in list of tokenized words\"\"\"\r\n",
        "    stemmer = LancasterStemmer()\r\n",
        "    stems = []\r\n",
        "    for word in words:\r\n",
        "        stem = stemmer.stem(word)\r\n",
        "        stems.append(stem)\r\n",
        "    return stems\r\n",
        "\r\n",
        "def lemmatize_verbs(words):\r\n",
        "    \"\"\"Lemmatize verbs in list of tokenized words\"\"\"\r\n",
        "    lemmatizer = WordNetLemmatizer()\r\n",
        "    lemmas = []\r\n",
        "    for word in words:\r\n",
        "        lemma = lemmatizer.lemmatize(word, pos='v')\r\n",
        "        lemmas.append(lemma)\r\n",
        "    return lemmas\r\n",
        "def remove_emoji(string):\r\n",
        "    emoji_pattern = re.compile(\"[\"\r\n",
        "                           u\"\\U0001F600-\\U0001F64F\"  # emoticons\r\n",
        "                           u\"\\U0001F300-\\U0001F5FF\"  # symbols & pictographs\r\n",
        "                           u\"\\U0001F680-\\U0001F6FF\"  # transport & map symbols\r\n",
        "                           u\"\\U0001F1E0-\\U0001F1FF\"  # flags (iOS)\r\n",
        "                           u\"\\U00002702-\\U000027B0\"\r\n",
        "                           u\"\\U000024C2-\\U0001F251\"\r\n",
        "                           \"]+\", flags=re.UNICODE)\r\n",
        "    return emoji_pattern.sub(r'', string)\r\n",
        "\r\n",
        "def normalize(words):\r\n",
        "    words = remove_non_ascii(words)\r\n",
        "    # words = to_lowercase(words)\r\n",
        "    words = remove_punctuation(words)\r\n",
        "    words = replace_numbers(words)\r\n",
        "    words = remove_stopwords(words)\r\n",
        "    return words\r\n",
        "\r\n",
        "def preprocess(sample):\r\n",
        "    sample = remove_URL(sample)\r\n",
        "    sample = replace_contractions(sample)\r\n",
        "    sample=remove_emoji(sample)\r\n",
        "    words = nltk.word_tokenize(sample)\r\n",
        "    text=normalize(words)\r\n",
        "    return \" \".join(text)\r\n",
        "\r\n",
        "\r\n",
        "words=\"❤️❤️❤️ he gave us everything. He had a horri\"\r\n",
        "words = preprocess(words)\r\n",
        "print(words)"
      ],
      "execution_count": 215,
      "outputs": [
        {
          "output_type": "stream",
          "text": [
            "gave us everything He horri\n"
          ],
          "name": "stdout"
        }
      ]
    },
    {
      "cell_type": "code",
      "metadata": {
        "id": "IADJkHp17U1S"
      },
      "source": [
        "data['clean_text']=data['text'].apply(preprocess)"
      ],
      "execution_count": 216,
      "outputs": []
    },
    {
      "cell_type": "code",
      "metadata": {
        "colab": {
          "base_uri": "https://localhost:8080/"
        },
        "id": "-4QqmQum7afu",
        "outputId": "4f3c1b02-bf5f-4301-e0e3-1cf0139e13d2"
      },
      "source": [
        "data['clean_text'].head()"
      ],
      "execution_count": 217,
      "outputs": [
        {
          "output_type": "execute_result",
          "data": {
            "text/plain": [
              "2                 Arsonist sets cars ablaze dealership\n",
              "3                 Arsonist sets cars ablaze dealership\n",
              "5    If child Chinese tweet would gone viral Social...\n",
              "6    Several houses set ablaze Ngemsibaa village Ok...\n",
              "7    Asansol A BJP office Salanpur village set abla...\n",
              "Name: clean_text, dtype: object"
            ]
          },
          "metadata": {
            "tags": []
          },
          "execution_count": 217
        }
      ]
    },
    {
      "cell_type": "code",
      "metadata": {
        "colab": {
          "base_uri": "https://localhost:8080/",
          "height": 238
        },
        "id": "Uk7ycVej8ZIu",
        "outputId": "8fd23eed-9ae8-49bb-e98f-297eedb55959"
      },
      "source": [
        "print(data.duplicated().unique())\r\n",
        "print(data.duplicated(subset=['clean_text']).unique())\r\n",
        "data=data.drop_duplicates(subset=['clean_text'], keep='last')\r\n",
        "data.head()"
      ],
      "execution_count": 218,
      "outputs": [
        {
          "output_type": "stream",
          "text": [
            "[False]\n",
            "[False  True]\n"
          ],
          "name": "stdout"
        },
        {
          "output_type": "execute_result",
          "data": {
            "text/html": [
              "<div>\n",
              "<style scoped>\n",
              "    .dataframe tbody tr th:only-of-type {\n",
              "        vertical-align: middle;\n",
              "    }\n",
              "\n",
              "    .dataframe tbody tr th {\n",
              "        vertical-align: top;\n",
              "    }\n",
              "\n",
              "    .dataframe thead th {\n",
              "        text-align: right;\n",
              "    }\n",
              "</style>\n",
              "<table border=\"1\" class=\"dataframe\">\n",
              "  <thead>\n",
              "    <tr style=\"text-align: right;\">\n",
              "      <th></th>\n",
              "      <th>id</th>\n",
              "      <th>keyword</th>\n",
              "      <th>location</th>\n",
              "      <th>text</th>\n",
              "      <th>target</th>\n",
              "      <th>clean_text</th>\n",
              "    </tr>\n",
              "  </thead>\n",
              "  <tbody>\n",
              "    <tr>\n",
              "      <th>3</th>\n",
              "      <td>3</td>\n",
              "      <td>ablaze</td>\n",
              "      <td>Morgantown, WV</td>\n",
              "      <td>Arsonist sets cars ablaze at dealership https:...</td>\n",
              "      <td>1</td>\n",
              "      <td>Arsonist sets cars ablaze dealership</td>\n",
              "    </tr>\n",
              "    <tr>\n",
              "      <th>5</th>\n",
              "      <td>5</td>\n",
              "      <td>ablaze</td>\n",
              "      <td>OC</td>\n",
              "      <td>If this child was Chinese, this tweet would ha...</td>\n",
              "      <td>0</td>\n",
              "      <td>If child Chinese tweet would gone viral Social...</td>\n",
              "    </tr>\n",
              "    <tr>\n",
              "      <th>6</th>\n",
              "      <td>6</td>\n",
              "      <td>ablaze</td>\n",
              "      <td>London, England</td>\n",
              "      <td>Several houses have been set ablaze in Ngemsib...</td>\n",
              "      <td>1</td>\n",
              "      <td>Several houses set ablaze Ngemsibaa village Ok...</td>\n",
              "    </tr>\n",
              "    <tr>\n",
              "      <th>7</th>\n",
              "      <td>7</td>\n",
              "      <td>ablaze</td>\n",
              "      <td>Bharat</td>\n",
              "      <td>Asansol: A BJP office in Salanpur village was ...</td>\n",
              "      <td>1</td>\n",
              "      <td>Asansol A BJP office Salanpur village set abla...</td>\n",
              "    </tr>\n",
              "    <tr>\n",
              "      <th>8</th>\n",
              "      <td>8</td>\n",
              "      <td>ablaze</td>\n",
              "      <td>Accra, Ghana</td>\n",
              "      <td>National Security Minister, Kan Dapaah's side ...</td>\n",
              "      <td>0</td>\n",
              "      <td>National Security Minister Kan Dapaah side chi...</td>\n",
              "    </tr>\n",
              "  </tbody>\n",
              "</table>\n",
              "</div>"
            ],
            "text/plain": [
              "   id keyword  ... target                                         clean_text\n",
              "3   3  ablaze  ...      1               Arsonist sets cars ablaze dealership\n",
              "5   5  ablaze  ...      0  If child Chinese tweet would gone viral Social...\n",
              "6   6  ablaze  ...      1  Several houses set ablaze Ngemsibaa village Ok...\n",
              "7   7  ablaze  ...      1  Asansol A BJP office Salanpur village set abla...\n",
              "8   8  ablaze  ...      0  National Security Minister Kan Dapaah side chi...\n",
              "\n",
              "[5 rows x 6 columns]"
            ]
          },
          "metadata": {
            "tags": []
          },
          "execution_count": 218
        }
      ]
    },
    {
      "cell_type": "code",
      "metadata": {
        "colab": {
          "base_uri": "https://localhost:8080/"
        },
        "id": "wOiSwwSlUaj9",
        "outputId": "f407e777-24fe-488a-fb6e-127c9b327dc1"
      },
      "source": [
        "data['corpus']=data['keyword']+' '+data['clean_text']\r\n",
        "X = data['corpus']\r\n",
        "Y=data['target']\r\n",
        "X.shape,Y.shape"
      ],
      "execution_count": 231,
      "outputs": [
        {
          "output_type": "execute_result",
          "data": {
            "text/plain": [
              "((7640,), (7640,))"
            ]
          },
          "metadata": {
            "tags": []
          },
          "execution_count": 231
        }
      ]
    },
    {
      "cell_type": "code",
      "metadata": {
        "colab": {
          "base_uri": "https://localhost:8080/",
          "height": 465
        },
        "id": "q7bBmWKPuPUV",
        "outputId": "4edfa7a5-e08b-4b18-ab5c-4ee43cd39dfb"
      },
      "source": [
        "skfold=StratifiedKFold(n_splits=5,shuffle=True)\r\n",
        "i=1\r\n",
        "score_vals=[]\r\n",
        "for trainindex,testindex in skfold.split(X,Y):\r\n",
        "#     print(X[2966])\r\n",
        "    xtr,xcv=X.iloc[trainindex],X.iloc[testindex]\r\n",
        "    ytr,ycv=Y.iloc[trainindex],Y.iloc[testindex]\r\n",
        "    print(xtr.shape,ytr.shape,xcv.shape,ycv.shape)\r\n",
        "    tfidf=TfidfVectorizer()\r\n",
        "    xtr=tfidf.fit_transform(xtr.values)\r\n",
        "    xcv=tfidf.transform(xcv.values)\r\n",
        "    nbs=BernoulliNB(alpha=10)\r\n",
        "    nbs.fit(xtr,ytr)\r\n",
        "    pred=nbs.predict(xcv)\r\n",
        "    score=accuracy_score(ycv,pred)*100 \r\n",
        "    print(f\"For {i} fold {score}\")\r\n",
        "    score_vals.append(score)\r\n",
        "    i+=1\r\n",
        "plt.plot([1,2,3,4,5],score_vals)\r\n",
        "plt.xlabel(\"Number of Folds\") # Text for X-Axis\r\n",
        "plt.ylabel(\"Score\") # Text for Y-Axis\r\n",
        "plt.title(\"Accuracy Score\")\r\n",
        "plt.show()"
      ],
      "execution_count": 259,
      "outputs": [
        {
          "output_type": "stream",
          "text": [
            "(6112,) (6112,) (1528,) (1528,)\n",
            "For 1 fold 81.54450261780106\n",
            "(6112,) (6112,) (1528,) (1528,)\n",
            "For 2 fold 81.54450261780106\n",
            "(6112,) (6112,) (1528,) (1528,)\n",
            "For 3 fold 81.54450261780106\n",
            "(6112,) (6112,) (1528,) (1528,)\n",
            "For 4 fold 81.54450261780106\n",
            "(6112,) (6112,) (1528,) (1528,)\n",
            "For 5 fold 81.60994764397905\n"
          ],
          "name": "stdout"
        },
        {
          "output_type": "display_data",
          "data": {
            "image/png": "[encoded data removed]",
            "text/plain": [
              "<Figure size 432x288 with 1 Axes>"
            ]
          },
          "metadata": {
            "tags": [],
            "needs_background": "light"
          }
        }
      ]
    },
    {
      "cell_type": "code",
      "metadata": {
        "id": "2mkYohUDNqzq"
      },
      "source": [
        "\r\n",
        "def word_averaging(words):\r\n",
        "    all_words, mean = set(), []\r\n",
        "    \r\n",
        "    for word in words:\r\n",
        "        if isinstance(word, np.ndarray):\r\n",
        "            mean.append(word)\r\n",
        "        elif word in wv.vocab:\r\n",
        "            mean.append(wv.syn0norm[wv.vocab[word].index])\r\n",
        "            all_words.add(wv.vocab[word].index)\r\n",
        "\r\n",
        "    if not mean:\r\n",
        "        # FIXME: remove these examples in pre-processing\r\n",
        "        return np.zeros(wv.vector_size,)\r\n",
        "\r\n",
        "    mean = gensim.matutils.unitvec(np.array(mean).mean(axis=0)).astype(np.float32)\r\n",
        "    return mean\r\n",
        "\r\n",
        "def  word_averaging_list(text_list):\r\n",
        "    return np.vstack([word_averaging(post) for post in text_list ])"
      ],
      "execution_count": 199,
      "outputs": []
    },
    {
      "cell_type": "code",
      "metadata": {
        "id": "uVRsjy_rP9aX"
      },
      "source": [
        "def w2v_tokenize_text(text):\r\n",
        "    tokens = []\r\n",
        "    for sent in nltk.sent_tokenize(text, language='english'):\r\n",
        "        for word in nltk.word_tokenize(sent, language='english'):\r\n",
        "            if len(word) < 2:\r\n",
        "                continue\r\n",
        "            tokens.append(word)\r\n",
        "    return tokens\r\n",
        "    \r\n",
        "w_clean_text = data['clean_text'].apply(w2v_tokenize_text)\r\n",
        "w_keyword = data['keyword'].apply(w2v_tokenize_text)\r\n",
        "\r\n",
        "wd_clean_text = word_averaging_list(w_clean_text)\r\n",
        "wd_keyword = word_averaging_list(w_keyword)\r\n",
        "\r\n",
        "# data['wd_keyword'] = data['w_keyword'].apply(word_averaging_list)\r\n",
        "# data.head()\r\n",
        "# X_train_word_average = word_averaging_list(train_tokenized)\r\n",
        "# X_test_word_average = word_averaging_list(test_tokenized)"
      ],
      "execution_count": 226,
      "outputs": []
    },
    {
      "cell_type": "code",
      "metadata": {
        "id": "dlrQazSjTViG",
        "colab": {
          "base_uri": "https://localhost:8080/"
        },
        "outputId": "2576e474-a54b-4072-8739-01bb6504a7e2"
      },
      "source": [
        "skfold=StratifiedKFold(n_splits=5,shuffle=True)\r\n",
        "i=1\r\n",
        "score_vals=[]\r\n",
        "for trainindex,testindex in skfold.split(X,Y):\r\n",
        "#     print(X[2966])\r\n",
        "    xtr,xcv=X.iloc[trainindex],X.iloc[testindex]\r\n",
        "    ytr,ycv=Y.iloc[trainindex],Y.iloc[testindex]\r\n",
        "    print(xtr.shape,ytr.shape,xcv.shape,ycv.shape,xtr.values[0])\r\n",
        "    xcv_tokenized = xcv.apply(w2v_tokenize_text)\r\n",
        "    xtr_tokenized = xtr.apply(w2v_tokenize_text)\r\n",
        "    Xtr_word_average = word_averaging_list(xtr_tokenized)\r\n",
        "    Xcv_word_average = word_averaging_list(xcv_tokenized)\r\n",
        "    params={'alpha':[10,100,20,30,40,50]}\r\n",
        "    rndm=RandomizedSearchCV(BernoulliNB(),params,cv=3,scoring=\"f1\")\r\n",
        "    rndm.fit(Xtr_word_average,ytr)\r\n",
        "    nbs=BernoulliNB(alpha=rndm.best_params_['alpha'])\r\n",
        "    nbs.fit(Xtr_word_average,ytr)\r\n",
        "    pred=nbs.predict(Xcv_word_average)\r\n",
        "    score=accuracy_score(ycv,pred)*100\r\n",
        "    score_vals.append(score)\r\n",
        "    print(f\"For {i} fold {score}\")\r\n",
        "    i+=1"
      ],
      "execution_count": 260,
      "outputs": [
        {
          "output_type": "stream",
          "text": [
            "(6112,) (6112,) (1528,) (1528,) ablaze If child Chinese tweet would gone viral Social media would ablaze SNL would made racist j\n"
          ],
          "name": "stdout"
        },
        {
          "output_type": "stream",
          "text": [
            "/usr/local/lib/python3.6/dist-packages/ipykernel_launcher.py:9: DeprecationWarning: Call to deprecated `syn0norm` (Attribute will be removed in 4.0.0, use self.wv.vectors_norm instead).\n",
            "  if __name__ == '__main__':\n",
            "/usr/local/lib/python3.6/dist-packages/sklearn/model_selection/_search.py:281: UserWarning: The total space of parameters 6 is smaller than n_iter=10. Running 6 iterations. For exhaustive searches, use GridSearchCV.\n",
            "  % (grid_size, self.n_iter, grid_size), UserWarning)\n"
          ],
          "name": "stderr"
        },
        {
          "output_type": "stream",
          "text": [
            "For 1 fold 79.12303664921467\n",
            "(6112,) (6112,) (1528,) (1528,) ablaze Arsonist sets cars ablaze dealership\n"
          ],
          "name": "stdout"
        },
        {
          "output_type": "stream",
          "text": [
            "/usr/local/lib/python3.6/dist-packages/ipykernel_launcher.py:9: DeprecationWarning: Call to deprecated `syn0norm` (Attribute will be removed in 4.0.0, use self.wv.vectors_norm instead).\n",
            "  if __name__ == '__main__':\n",
            "/usr/local/lib/python3.6/dist-packages/sklearn/model_selection/_search.py:281: UserWarning: The total space of parameters 6 is smaller than n_iter=10. Running 6 iterations. For exhaustive searches, use GridSearchCV.\n",
            "  % (grid_size, self.n_iter, grid_size), UserWarning)\n"
          ],
          "name": "stderr"
        },
        {
          "output_type": "stream",
          "text": [
            "For 2 fold 79.97382198952879\n",
            "(6112,) (6112,) (1528,) (1528,) ablaze Arsonist sets cars ablaze dealership\n"
          ],
          "name": "stdout"
        },
        {
          "output_type": "stream",
          "text": [
            "/usr/local/lib/python3.6/dist-packages/ipykernel_launcher.py:9: DeprecationWarning: Call to deprecated `syn0norm` (Attribute will be removed in 4.0.0, use self.wv.vectors_norm instead).\n",
            "  if __name__ == '__main__':\n",
            "/usr/local/lib/python3.6/dist-packages/sklearn/model_selection/_search.py:281: UserWarning: The total space of parameters 6 is smaller than n_iter=10. Running 6 iterations. For exhaustive searches, use GridSearchCV.\n",
            "  % (grid_size, self.n_iter, grid_size), UserWarning)\n"
          ],
          "name": "stderr"
        },
        {
          "output_type": "stream",
          "text": [
            "For 3 fold 79.05759162303664\n",
            "(6112,) (6112,) (1528,) (1528,) ablaze Arsonist sets cars ablaze dealership\n"
          ],
          "name": "stdout"
        },
        {
          "output_type": "stream",
          "text": [
            "/usr/local/lib/python3.6/dist-packages/ipykernel_launcher.py:9: DeprecationWarning: Call to deprecated `syn0norm` (Attribute will be removed in 4.0.0, use self.wv.vectors_norm instead).\n",
            "  if __name__ == '__main__':\n",
            "/usr/local/lib/python3.6/dist-packages/sklearn/model_selection/_search.py:281: UserWarning: The total space of parameters 6 is smaller than n_iter=10. Running 6 iterations. For exhaustive searches, use GridSearchCV.\n",
            "  % (grid_size, self.n_iter, grid_size), UserWarning)\n"
          ],
          "name": "stderr"
        },
        {
          "output_type": "stream",
          "text": [
            "For 4 fold 77.5523560209424\n",
            "(6112,) (6112,) (1528,) (1528,) ablaze Arsonist sets cars ablaze dealership\n"
          ],
          "name": "stdout"
        },
        {
          "output_type": "stream",
          "text": [
            "/usr/local/lib/python3.6/dist-packages/ipykernel_launcher.py:9: DeprecationWarning: Call to deprecated `syn0norm` (Attribute will be removed in 4.0.0, use self.wv.vectors_norm instead).\n",
            "  if __name__ == '__main__':\n",
            "/usr/local/lib/python3.6/dist-packages/sklearn/model_selection/_search.py:281: UserWarning: The total space of parameters 6 is smaller than n_iter=10. Running 6 iterations. For exhaustive searches, use GridSearchCV.\n",
            "  % (grid_size, self.n_iter, grid_size), UserWarning)\n"
          ],
          "name": "stderr"
        },
        {
          "output_type": "stream",
          "text": [
            "For 5 fold 78.7303664921466\n"
          ],
          "name": "stdout"
        }
      ]
    },
    {
      "cell_type": "code",
      "metadata": {
        "colab": {
          "base_uri": "https://localhost:8080/",
          "height": 295
        },
        "id": "5hIsdGjorQyj",
        "outputId": "60345f54-d4c3-4ac1-fcb5-3c72267e550d"
      },
      "source": [
        "plt.plot([1,2,3,4,5],score_vals)\r\n",
        "plt.xlabel(\"Number of Folds\") # Text for X-Axis\r\n",
        "plt.ylabel(\"Score\") # Text for Y-Axis\r\n",
        "plt.title(\"Accuracy Score\")\r\n",
        "plt.show()"
      ],
      "execution_count": 261,
      "outputs": [
        {
          "output_type": "display_data",
          "data": {
            "image/png": "[encoded data removed]",
            "text/plain": [
              "<Figure size 432x288 with 1 Axes>"
            ]
          },
          "metadata": {
            "tags": [],
            "needs_background": "light"
          }
        }
      ]
    },
    {
      "cell_type": "code",
      "metadata": {
        "id": "A6CfEyafy0cF"
      },
      "source": [
        ""
      ],
      "execution_count": null,
      "outputs": []
    }
  ]
}